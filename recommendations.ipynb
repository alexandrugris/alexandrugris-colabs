{
 "cells": [
  {
   "cell_type": "code",
   "execution_count": null,
   "metadata": {},
   "outputs": [],
   "source": [
    "import matplotlib.pyplot as plt\n",
    "import numpy as np\n",
    "import tensorflow as tf\n",
    "import tensorflow_datasets as tfds\n",
    "import pandas as pd\n",
    "import tensorflow_transform as tft\n",
    "import tensorflow_transform.beam as tft_beam\n",
    "import tempfile\n",
    "from tensorflow_transform.tf_metadata import dataset_metadata\n",
    "from tensorflow_transform.tf_metadata import schema_utils\n",
    "import apache_beam as beam"
   ]
  },
  {
   "cell_type": "code",
   "execution_count": null,
   "metadata": {},
   "outputs": [],
   "source": [
    "tfds.list_builders()"
   ]
  },
  {
   "cell_type": "code",
   "execution_count": null,
   "metadata": {},
   "outputs": [],
   "source": [
    "# movielens/25m-ratings\n",
    "ds = tfds.load('movielens/latest-small-ratings', split='train', shuffle_files=True).prefetch(1024)"
   ]
  },
  {
   "cell_type": "code",
   "execution_count": null,
   "metadata": {},
   "outputs": [],
   "source": [
    "df = tfds.as_dataframe(ds.take(100))"
   ]
  },
  {
   "cell_type": "code",
   "execution_count": null,
   "metadata": {},
   "outputs": [],
   "source": [
    "df.head()"
   ]
  },
  {
   "cell_type": "code",
   "execution_count": null,
   "metadata": {},
   "outputs": [],
   "source": [
    "raw_data = ({\n",
    "        k : elem[k].numpy()\n",
    "        for k in ['movie_id', 'user_id', 'user_rating']\n",
    "    } for elem in ds    \n",
    ")"
   ]
  },
  {
   "cell_type": "code",
   "execution_count": null,
   "metadata": {},
   "outputs": [],
   "source": [
    "def preprocessing_fn(inputs):\n",
    "    return {\n",
    "        \"movie_id\": tft.compute_and_apply_vocabulary(inputs[\"movie_id\"], vocab_filename=\"movies_vocabulary\"),\n",
    "        \"user_id\": tft.compute_and_apply_vocabulary(inputs[\"user_id\"], vocab_filename=\"users_vocabulary\"),\n",
    "        \"user_rating\": tft.scale_to_0_1(inputs [\"user_rating\"])\n",
    "    }\n",
    "   \n",
    "raw_data_metadata = dataset_metadata.DatasetMetadata(\n",
    "      schema_utils.schema_from_feature_spec({\n",
    "        'movie_id': tf.io.FixedLenFeature([], tf.string),\n",
    "        'user_id': tf.io.FixedLenFeature([], tf.string),\n",
    "        'user_rating': tf.io.FixedLenFeature([], tf.float32),\n",
    "    }))\n",
    "\n",
    "def make_map_map(k1, k2):\n",
    "    def map_map(v):\n",
    "        for x in v[1]:\n",
    "            yield (v[0], x[k2], x['user_rating'])\n",
    "    return map_map\n",
    "\n",
    "\n",
    "with tft_beam.Context(temp_dir=tempfile.mkdtemp()):\n",
    "    transformed_data, transform_fn = ( (raw_data, raw_data_metadata) | tft_beam.AnalyzeAndTransformDataset(preprocessing_fn))\n",
    "    transformed_data, _     = transformed_data\n",
    "    grouped_by_user_id      = (transformed_data | beam.GroupBy(lambda v: int(v['user_id'])))\n",
    "    grouped_by_user_id      = (grouped_by_user_id) | beam.ParDo(make_map_map('user_id', 'movie_id'))\n",
    "\n",
    "grouped_by_user_id\n"
   ]
  },
  {
   "cell_type": "code",
   "execution_count": null,
   "metadata": {},
   "outputs": [],
   "source": [
    "grouped_by_user_id = np.array(grouped_by_user_id)\n",
    "grouped_by_user_id\n",
    "\n",
    "grouped_by_user_id[:, [0, 1]].astype(int)"
   ]
  },
  {
   "cell_type": "code",
   "execution_count": null,
   "metadata": {},
   "outputs": [],
   "source": [
    "indices = grouped_by_user_id[:, [0, 1]].astype(int)\n",
    "values = grouped_by_user_id[:, 2].flatten()\n",
    "\n",
    "users = np.max(indices[:, 0].flatten())\n",
    "movies = np.max(indices[:, 1].flatten())\n",
    "\n",
    "user_ratings_matrix = tf.SparseTensor(\n",
    "    indices = indices, \n",
    "    values = values, \n",
    "    dense_shape = (users, movies)\n",
    ")\n",
    "\n",
    "def loss_fn(user_ratings_matrix, user_embeddings, movies_embeddings):\n",
    "\n",
    "    user_embeddings = tf.gather(user_embeddings, user_ratings_matrix.indices[:, 0])\n",
    "    movies_embeddings = tf.gather(movie_embeddings, user_ratings_matrix.indices[:, 1])\n",
    "\n",
    "    return tf.losses.mean_squared_error(\n",
    "        user_ratings_matrix.values,\n",
    "        tf.reduce_sum(user_embeddings * movies_embeddings, axis = 1)\n",
    "    )\n",
    "\n",
    "user_embeddings = tf.Variable(tf.keras.initializers.HeNormal()(shape=(users, 15)))\n",
    "movie_embeddings = tf.Variable(tf.keras.initializers.HeNormal()(shape=(movies, 15)))\n",
    "\n",
    "print(user_embeddings.shape)\n",
    "print(movie_embeddings.shape)\n",
    "\n",
    "print(tf.gather(user_embeddings, user_ratings_matrix.indices[:, 0]).shape)\n",
    "print(tf.gather(movie_embeddings, user_ratings_matrix.indices[:, 1]).shape)\n",
    "\n",
    "loss_fn(user_ratings_matrix, user_embeddings, movie_embeddings)"
   ]
  },
  {
   "cell_type": "code",
   "execution_count": null,
   "metadata": {},
   "outputs": [],
   "source": [
    "epochs = 10000\n",
    "for epoch in range(epochs):\n",
    "    with tf.GradientTape() as tape:\n",
    "        ls = loss_fn(user_ratings_matrix, user_embeddings, movie_embeddings)\n",
    "        \n",
    "    gradients = tape.gradient(ls, [user_embeddings, movie_embeddings])\n",
    "\n",
    "    g = [tf.IndexedSlices(\n",
    "            indices=g.indices,\n",
    "            values=g.values * 50,\n",
    "            dense_shape=g.dense_shape\n",
    "    ) for g in gradients]\n",
    "\n",
    "    user_embeddings.assign_sub(g[0])\n",
    "    movie_embeddings.assign_sub(g[1])\n",
    "\n",
    "    if (epoch % 1000 == 0): print(ls.numpy())"
   ]
  },
  {
   "cell_type": "code",
   "execution_count": null,
   "metadata": {},
   "outputs": [],
   "source": [
    "def predict(user_id):\n",
    "    return tf.matmul(tf.reshape(user_embeddings[user_id], shape=(1,15)), tf.transpose(movie_embeddings))\n",
    "\n",
    "predict(24)"
   ]
  }
 ],
 "metadata": {
  "interpreter": {
   "hash": "0da9d8703e614d1e7a380f8f5b45ceb46a3cf2020e95783670e38f16796c63ae"
  },
  "kernelspec": {
   "display_name": "Python 3.9.5 64-bit ('base': conda)",
   "language": "python",
   "name": "python3"
  },
  "language_info": {
   "codemirror_mode": {
    "name": "ipython",
    "version": 3
   },
   "file_extension": ".py",
   "mimetype": "text/x-python",
   "name": "python",
   "nbconvert_exporter": "python",
   "pygments_lexer": "ipython3",
   "version": "3.8.10"
  },
  "orig_nbformat": 4
 },
 "nbformat": 4,
 "nbformat_minor": 2
}
